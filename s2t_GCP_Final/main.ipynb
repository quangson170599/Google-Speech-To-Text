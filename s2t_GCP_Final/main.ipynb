{
 "cells": [
  {
   "cell_type": "code",
   "execution_count": 1,
   "metadata": {},
   "outputs": [
    {
     "name": "stderr",
     "output_type": "stream",
     "text": [
      "The torchaudio backend is switched to 'soundfile'. Note that 'sox_io' is not supported on Windows.\n",
      "The torchaudio backend is switched to 'soundfile'. Note that 'sox_io' is not supported on Windows.\n"
     ]
    }
   ],
   "source": [
    "key_lib = True\n",
    "if key_lib == True:\n",
    "    from Process_Function import *\n",
    "    from Function.write_txt import *\n",
    "    from time import time\n",
    "    key_lib = False\n",
    "else:\n",
    "    print('Đã chạy trước đó')"
   ]
  },
  {
   "cell_type": "code",
   "execution_count": 2,
   "metadata": {},
   "outputs": [
    {
     "name": "stdout",
     "output_type": "stream",
     "text": [
      "find file :  dict_keys(['hashDict', 'My_info', 'My_info_list', 'Result', 'Speaker_dict', 'Text_Dict'])\n",
      "Vô danh: xin mời đồng chí ta\n",
      "Đồng chí Ta: ngày 13/6 Bộ Chỉ huy Bộ đội biên phòng Bà Rịa Vũng Tàu cho biết qua hai ngày 11 và 12/6 Thực hiện kế hoạch tuần tra bảo vệ chủ quyền vùng biển và phối hợp Bảo an toàn đường ống dẫn khí Nam lực lượng Biên phòng và công ty đường ống khí Nam Côn Sơn 12 bộ việc với 17 Phương tiện đang\n",
      "khai thác đánh bắt thủy sản chồng và cận kề hành lang an toàn đường ống dẫn khí theo đó tổ tuần tra tàu biên phòng 98012 đội Biên phòng bộ đội biên phòng Bà Rịa Vũng Tàu đã tuần tra dọc hành lang an toàn đường khi Nam Côn Sơn từ cá buồn đến remix 90 kể về 75 và ngược lại báo cáo hết\n",
      "Vô danh: xin mời đồng chí loại\n",
      "Đồng chí Loại: ngày 13/6 Bộ Chỉ huy Bộ đội biên phòng Bà Rịa Vũng Tàu cho biết qua hai ngày 11 và 12 tháng 6 Thực hiện kế hoạch tuần tra bảo vệ chủ quyền vùng biển và phối hợp âm lực lượng Biên phòng và công ty đường ống khí Nam Côn Sơn phát hiện 12 Vụ việc với 17 phương tiện nâng Neo Đậu kem thủy hải sản ảnh về hành lang đường ống dẫn khí dưới biển\n",
      " tình cha ta 1398  hai đội biên phòng 2 pro biên phòng Bà Rịa Vũng Tàu đường chạy dọc theo hành lang an toàn đường ống khí Nam Côn Sơn từ km 22 đến km 90 và ngược lại báo cáo hết\n",
      "Vô danh: Báo cáo hết xin mời đồng chí Vũ\n",
      "Đồng chí Vũ: quá trình thanh tra tổ công tác  ngày 13   Bà Rịa Vũng Tàu cho qua hai ngày 11 và 12 thực hiện kế hoạch tuần tra bảo vệ chủ quyền phối hợp bảo vệ an toàn đường ống dẫn khí Nam lực lượng Biên phòng và công ty đường ống khí nén  phát hiện 12\n",
      "17 Phương tiện đang cái thật đừng bắt thủy cần kế hành lang an toàn đường ống dẫn khí dưới biển  Tình Cha tàu  tin nóng buộc phải đổi biển Bà Rịa Vũng Tàu đã tuần tra dọc hành lang an toàn đường ống thì Nam từ km 22 đến km cà phê\n",
      " Báo cáo hết\n",
      "Vô danh: xin mời đồng chí Doraemon ngày 13/6 Bộ Chỉ huy Bộ đội biên phòng Bà Rịa Vũng Tàu cho biết quá hai ngày 11 và 12/6 Thực hiện kế hoạch tuần tra bảo vệ chủ quyền vùng biển và phối hợp bảo vệ an ninh an toàn đường ống dẫn khí Nam Côn Sơn lực lượng Biên phòng và công tác đường ống dẫn khí Nam Côn Sơn đã phát hiện 12 Vụ việc với 17 Phương tiện đang đang Neo Đậu khai thác đánh bắt thủy sản trong và cưỡng chế hành lang an toàn đường ống dẫn nước biển theo đó tổ tuần tra tàu biên phòng 13 9801 thuộc hai đội biên phòng 2 Mỗi tổ bà rịa vũng\n",
      "Vũng Tàu đã tuần tra dọc hành lang an toàn đường ống dẫn khí Nam Côn Sơn từ km22 tính km90 kb75 và ngược lại báo cáo hết\n"
     ]
    }
   ],
   "source": [
    "Audio_Input = 'Input/29071206.wav'\n",
    "Audio_Input = Check_Audio_name(Audio_Input)\n",
    "save_all = True\n",
    "Punc = False        # Có dấu theo gg hay k\n",
    "Downline =True      # Có xuống dòng k\n",
    "time_downline = 20  # Thời gian nói rồi xuống dòng\n",
    "silence_time=300\n",
    "Txt_option = 'S{}_P{}_D{}_downline{}'.format(silence_time,Punc,Downline,time_downline)\n",
    "\n",
    "Restore = read_dict_txt(Audio_Input,Txt_option)\n",
    "\n",
    "if Restore == False:\n",
    "    del_Folder(Audio_Input)\n",
    "    process_time = [time()]\n",
    "    '''Speaker'''\n",
    "    Speaker_dict,hashDict = Split_speaker(Audio_Input, time_ok=True)\n",
    "    if save_all == True:\n",
    "        write_dict_txt(Speaker_dict,'Speaker_dict',Audio_Input,Txt_option)\n",
    "        write_dict_txt(hashDict,'hashDict',Audio_Input,Txt_option)\n",
    "    process_time.append(time())\n",
    "\n",
    "    '''Silent'''\n",
    "    My_info = []\n",
    "    My_info_list = []\n",
    "    for audio,speaker in hashDict.items():\n",
    "        my_dict,alist = split_silence(audio,speaker,silence_time=silence_time,set_channel=True)\n",
    "        My_info.append(my_dict)\n",
    "        My_info_list.append(alist)\n",
    "    # My_info = []\n",
    "    # for key,value in hashDict.items():\n",
    "    #     My_info.append({value:{key:(0,0)}})\n",
    "    # process_time.append(time())\n",
    "    if save_all == True:\n",
    "        write_dict_txt(My_info,'My_info',Audio_Input,Txt_option)\n",
    "        write_dict_txt(My_info_list,'My_info_list',Audio_Input,Txt_option)\n",
    "\n",
    "    '''Google'''\n",
    "    if Punc == False and Downline == True:\n",
    "        My_info = Process(My_info,My_info_list,time=time_downline)\n",
    "    Text_Dict=GCP_s2t(My_info,Punc=Punc)\n",
    "    Result = Handle_Text_Dict(Text_Dict,XD=Downline)\n",
    "    process_time.append(time())\n",
    "\n",
    "    if save_all == True:\n",
    "        write_dict_txt(Text_Dict,'Text_Dict',Audio_Input,Txt_option)\n",
    "        write_dict_txt(Result,'Result',Audio_Input,Txt_option)\n",
    "\n",
    "\n",
    "    '''Syntax'''\n",
    "    final_text = Process(Result)\n",
    "        \n",
    "\n",
    "    process_time.append(time())\n",
    "    '''Write Doc'''\n",
    "    # Name = Audio_Input.split('/')[-1]\n",
    "    # Name.replace('.wav','Xuong_dong')\n",
    "    # downline(final_text)cx\n",
    "    Create_Word(Audio_Input,final_text)\n",
    "\n",
    "    process_time = [process_time[i+1]-process_time[i] for i in range(len(process_time[:-1]))]\n",
    "    print(process_time)\n",
    "    final_text\n",
    "else:\n",
    "    hashDict = Restore['hashDict']\n",
    "    Speaker_dict = Restore['Speaker_dict']\n",
    "    My_info = Restore['My_info']\n",
    "    My_info_list = Restore['My_info_list']\n",
    "    Text_Dict = Restore['Text_Dict']\n",
    "    Result = Restore['Result']\n",
    "    # if Punc == False:\n",
    "    #     final_text = process_input_no_punc(Result)\n",
    "    # else:\n",
    "    final_text = process(Result)"
   ]
  },
  {
   "cell_type": "code",
   "execution_count": 9,
   "metadata": {},
   "outputs": [],
   "source": [
    "def process(input_1):\n",
    "    text_no_punc = input_1['khong dau']\n",
    "    text_punc = input_1['co dau']\n",
    "    speaker = input_1['Speaker']\n",
    "    name_recog = recognize(text_no_punc,speaker)\n",
    "    text_done = []\n",
    "    for i in range(len(text_no_punc)):\n",
    "      if i != 0:\n",
    "        if speaker[i] != speaker[i-1]:\n",
    "            if name_recog[speaker[i]]!='Vô danh':\n",
    "              print('Đồng chí '+(name_recog[speaker[i]]).capitalize() + ': ' + text_no_punc[i])\n",
    "              text_done.append('Đồng chí '+(name_recog[speaker[i]]).capitalize() + ': ' + text_no_punc[i])\n",
    "            else:\n",
    "              print(name_recog[speaker[i]].capitalize() + ': ' + text_no_punc[i])\n",
    "              text_done.append(name_recog[speaker[i]].capitalize() + ': ' + text_no_punc[i])\n",
    "        else:\n",
    "          print(text_no_punc[i])\n",
    "          text_done.append(text_no_punc[i])\n",
    "      else:\n",
    "        print(name_recog[speaker[i]].capitalize() + ': ' + text_no_punc[i])\n",
    "        text_done.append(name_recog[speaker[i]].capitalize() + ': ' + text_no_punc[i])\n",
    "    return text_done"
   ]
  },
  {
   "cell_type": "code",
   "execution_count": 10,
   "metadata": {},
   "outputs": [
    {
     "name": "stdout",
     "output_type": "stream",
     "text": [
      "Vô danh: xin mời đồng chí ta\n",
      "Đồng chí Ta: ngày 13/6 Bộ Chỉ huy Bộ đội biên phòng Bà Rịa Vũng Tàu cho biết qua hai ngày 11 và 12/6 Thực hiện kế hoạch tuần tra bảo vệ chủ quyền vùng biển và phối hợp Bảo an toàn đường ống dẫn khí Nam lực lượng Biên phòng và công ty đường ống khí Nam Côn Sơn 12 bộ việc với 17 Phương tiện đang\n",
      "khai thác đánh bắt thủy sản chồng và cận kề hành lang an toàn đường ống dẫn khí theo đó tổ tuần tra tàu biên phòng 98012 đội Biên phòng bộ đội biên phòng Bà Rịa Vũng Tàu đã tuần tra dọc hành lang an toàn đường khi Nam Côn Sơn từ cá buồn đến remix 90 kể về 75 và ngược lại báo cáo hết\n",
      "Vô danh: xin mời đồng chí loại\n",
      "Đồng chí Loại: ngày 13/6 Bộ Chỉ huy Bộ đội biên phòng Bà Rịa Vũng Tàu cho biết qua hai ngày 11 và 12 tháng 6 Thực hiện kế hoạch tuần tra bảo vệ chủ quyền vùng biển và phối hợp âm lực lượng Biên phòng và công ty đường ống khí Nam Côn Sơn phát hiện 12 Vụ việc với 17 phương tiện nâng Neo Đậu kem thủy hải sản ảnh về hành lang đường ống dẫn khí dưới biển\n",
      " tình cha ta 1398  hai đội biên phòng 2 pro biên phòng Bà Rịa Vũng Tàu đường chạy dọc theo hành lang an toàn đường ống khí Nam Côn Sơn từ km 22 đến km 90 và ngược lại báo cáo hết\n",
      "Vô danh: Báo cáo hết xin mời đồng chí Vũ\n",
      "Đồng chí Vũ: quá trình thanh tra tổ công tác  ngày 13   Bà Rịa Vũng Tàu cho qua hai ngày 11 và 12 thực hiện kế hoạch tuần tra bảo vệ chủ quyền phối hợp bảo vệ an toàn đường ống dẫn khí Nam lực lượng Biên phòng và công ty đường ống khí nén  phát hiện 12\n",
      "17 Phương tiện đang cái thật đừng bắt thủy cần kế hành lang an toàn đường ống dẫn khí dưới biển  Tình Cha tàu  tin nóng buộc phải đổi biển Bà Rịa Vũng Tàu đã tuần tra dọc hành lang an toàn đường ống thì Nam từ km 22 đến km cà phê\n",
      " Báo cáo hết\n",
      "Vô danh: xin mời đồng chí Doraemon ngày 13/6 Bộ Chỉ huy Bộ đội biên phòng Bà Rịa Vũng Tàu cho biết quá hai ngày 11 và 12/6 Thực hiện kế hoạch tuần tra bảo vệ chủ quyền vùng biển và phối hợp bảo vệ an ninh an toàn đường ống dẫn khí Nam Côn Sơn lực lượng Biên phòng và công tác đường ống dẫn khí Nam Côn Sơn đã phát hiện 12 Vụ việc với 17 Phương tiện đang đang Neo Đậu khai thác đánh bắt thủy sản trong và cưỡng chế hành lang an toàn đường ống dẫn nước biển theo đó tổ tuần tra tàu biên phòng 13 9801 thuộc hai đội biên phòng 2 Mỗi tổ bà rịa vũng\n",
      "Vũng Tàu đã tuần tra dọc hành lang an toàn đường ống dẫn khí Nam Côn Sơn từ km22 tính km90 kb75 và ngược lại báo cáo hết\n"
     ]
    }
   ],
   "source": [
    "final_text = process(Result)"
   ]
  },
  {
   "cell_type": "code",
   "execution_count": 20,
   "metadata": {},
   "outputs": [
    {
     "name": "stdout",
     "output_type": "stream",
     "text": [
      "Input/29071206_for_timeline.wav\n",
      "Transcript: Xin mời Đồng Chí Khanh ngày 13 tháng 6 Bộ Chỉ huy Bộ đội biên phòng Bà Rịa Vũng Tàu cho biết qua hai ngày 11 và 12 tháng 6 hiện kế hoạch tuần tra bảo vệ chủ quyền vùng biển và phối hợp bảo vệ an ninh an toàn đường ống dẫn khí Nam Côn Sơn lực lượng Biên phòng và công ty đường ống khí Nam Côn Sơn đã phát hiện 12 Vụ việc với 17 Phương tiện đang Neo Đậu khai thác đánh bắt thủy sản\n",
      "Word: Xin, start_time: 0.1, end_time: 1.2\n",
      "Word: mời, start_time: 1.2, end_time: 1.4\n",
      "Word: Đồng, start_time: 1.4, end_time: 1.5\n",
      "Word: Chí, start_time: 1.5, end_time: 1.7\n",
      "Word: Khanh, start_time: 1.7, end_time: 1.9\n",
      "Word: ngày, start_time: 1.9, end_time: 4.6\n",
      "Word: 13, start_time: 4.6, end_time: 5.0\n",
      "Word: tháng, start_time: 5.0, end_time: 5.2\n",
      "Word: 6, start_time: 5.2, end_time: 5.9\n",
      "Word: Bộ, start_time: 5.9, end_time: 6.4\n",
      "Word: Chỉ, start_time: 6.4, end_time: 6.6\n",
      "Word: huy, start_time: 6.6, end_time: 6.7\n",
      "Word: Bộ, start_time: 6.7, end_time: 7.1\n",
      "Word: đội, start_time: 7.1, end_time: 7.4\n",
      "Word: biên, start_time: 7.4, end_time: 7.8\n",
      "Word: phòng, start_time: 7.8, end_time: 8.0\n",
      "Word: Bà, start_time: 8.0, end_time: 8.3\n",
      "Word: Rịa, start_time: 8.3, end_time: 8.3\n",
      "Word: Vũng, start_time: 8.3, end_time: 8.7\n",
      "Word: Tàu, start_time: 8.7, end_time: 8.9\n",
      "Word: cho, start_time: 8.9, end_time: 9.0\n",
      "Word: biết, start_time: 9.0, end_time: 9.2\n",
      "Word: qua, start_time: 9.2, end_time: 9.8\n",
      "Word: hai, start_time: 9.8, end_time: 10.1\n",
      "Word: ngày, start_time: 10.1, end_time: 10.4\n",
      "Word: 11, start_time: 10.4, end_time: 10.7\n",
      "Word: và, start_time: 10.7, end_time: 11.0\n",
      "Word: 12, start_time: 11.0, end_time: 11.3\n",
      "Word: tháng, start_time: 11.3, end_time: 11.5\n",
      "Word: 6, start_time: 11.5, end_time: 11.8\n",
      "Word: hiện, start_time: 11.8, end_time: 12.5\n",
      "Word: kế, start_time: 12.5, end_time: 12.8\n",
      "Word: hoạch, start_time: 12.8, end_time: 12.8\n",
      "Word: tuần, start_time: 12.8, end_time: 13.1\n",
      "Word: tra, start_time: 13.1, end_time: 13.4\n",
      "Word: bảo, start_time: 13.4, end_time: 13.6\n",
      "Word: vệ, start_time: 13.6, end_time: 13.7\n",
      "Word: chủ, start_time: 13.7, end_time: 14.1\n",
      "Word: quyền, start_time: 14.1, end_time: 14.6\n",
      "Word: vùng, start_time: 14.6, end_time: 15.0\n",
      "Word: biển, start_time: 15.0, end_time: 15.2\n",
      "Word: và, start_time: 15.2, end_time: 15.5\n",
      "Word: phối, start_time: 15.5, end_time: 15.8\n",
      "Word: hợp, start_time: 15.8, end_time: 15.8\n",
      "Word: bảo, start_time: 15.8, end_time: 16.1\n",
      "Word: vệ, start_time: 16.1, end_time: 16.2\n",
      "Word: an, start_time: 16.2, end_time: 16.4\n",
      "Word: ninh, start_time: 16.4, end_time: 16.7\n",
      "Word: an, start_time: 16.7, end_time: 17.1\n",
      "Word: toàn, start_time: 17.1, end_time: 17.3\n",
      "Word: đường, start_time: 17.3, end_time: 17.7\n",
      "Word: ống, start_time: 17.7, end_time: 17.9\n",
      "Word: dẫn, start_time: 17.9, end_time: 18.0\n",
      "Word: khí, start_time: 18.0, end_time: 18.4\n",
      "Word: Nam, start_time: 18.4, end_time: 18.9\n",
      "Word: Côn, start_time: 18.9, end_time: 19.1\n",
      "Word: Sơn, start_time: 19.1, end_time: 19.4\n",
      "Word: lực, start_time: 19.4, end_time: 20.2\n",
      "Word: lượng, start_time: 20.2, end_time: 20.5\n",
      "Word: Biên, start_time: 20.5, end_time: 20.7\n",
      "Word: phòng, start_time: 20.7, end_time: 20.8\n",
      "Word: và, start_time: 20.8, end_time: 21.3\n",
      "Word: công, start_time: 21.3, end_time: 21.4\n",
      "Word: ty, start_time: 21.4, end_time: 21.6\n",
      "Word: đường, start_time: 21.6, end_time: 21.9\n",
      "Word: ống, start_time: 21.9, end_time: 22.0\n",
      "Word: khí, start_time: 22.0, end_time: 22.2\n",
      "Word: Nam, start_time: 22.2, end_time: 22.7\n",
      "Word: Côn, start_time: 22.7, end_time: 22.8\n",
      "Word: Sơn, start_time: 22.8, end_time: 23.1\n",
      "Word: đã, start_time: 23.1, end_time: 23.5\n",
      "Word: phát, start_time: 23.5, end_time: 23.7\n",
      "Word: hiện, start_time: 23.7, end_time: 23.8\n",
      "Word: 12, start_time: 23.8, end_time: 24.7\n",
      "Word: Vụ, start_time: 24.7, end_time: 24.9\n",
      "Word: việc, start_time: 24.9, end_time: 25.4\n",
      "Word: với, start_time: 25.4, end_time: 25.7\n",
      "Word: 17, start_time: 25.7, end_time: 26.1\n",
      "Word: Phương, start_time: 26.1, end_time: 26.3\n",
      "Word: tiện, start_time: 26.3, end_time: 26.4\n",
      "Word: đang, start_time: 26.4, end_time: 26.8\n",
      "Word: Neo, start_time: 26.8, end_time: 27.1\n",
      "Word: Đậu, start_time: 27.1, end_time: 27.3\n",
      "Word: khai, start_time: 27.3, end_time: 28.1\n",
      "Word: thác, start_time: 28.1, end_time: 28.4\n",
      "Word: đánh, start_time: 28.4, end_time: 28.6\n",
      "Word: bắt, start_time: 28.6, end_time: 28.6\n",
      "Word: thủy, start_time: 28.6, end_time: 28.8\n",
      "Word: sản, start_time: 28.8, end_time: 29.0\n"
     ]
    }
   ],
   "source": [
    "def transcribe_file_with_word_time_offsets(speech_file,rate,channel):\n",
    "    \"\"\"Transcribe the given audio file synchronously and output the word time\n",
    "    offsets.\"\"\"\n",
    "    from google.cloud import speech\n",
    "\n",
    "    client = speech.SpeechClient()\n",
    "\n",
    "    with io.open(speech_file, \"rb\") as audio_file:\n",
    "        content = audio_file.read()\n",
    "\n",
    "    audio = speech.RecognitionAudio(content=content)\n",
    "    config = speech.RecognitionConfig(\n",
    "        encoding=speech.RecognitionConfig.AudioEncoding.LINEAR16,\n",
    "        sample_rate_hertz=rate,\n",
    "        language_code=\"vi-VN\",\n",
    "        audio_channel_count=channel,\n",
    "        enable_word_time_offsets=True,\n",
    "\n",
    "    )\n",
    "\n",
    "    response = client.recognize(config=config, audio=audio)\n",
    "\n",
    "    for result in response.results:\n",
    "        alternative = result.alternatives[0]\n",
    "        print(\"Transcript: {}\".format(alternative.transcript))\n",
    "\n",
    "        for word_info in alternative.words:\n",
    "            word = word_info.word\n",
    "            start_time = word_info.start_time\n",
    "            end_time = word_info.end_time\n",
    "\n",
    "            print(\n",
    "                f\"Word: {word}, start_time: {start_time.total_seconds()}, end_time: {end_time.total_seconds()}\"\n",
    "            )\n",
    "    return result\n",
    "\n",
    "audio = AudioSegment.from_file(Audio_Input,'wav')\n",
    "audio.set_channels(1)\n",
    "Audio_Input2 = Audio_Input.replace('.wav','_for_timeline.wav')\n",
    "audio = audio[:30000]\n",
    "audio.export(Audio_Input2,format='wav')\n",
    "\n",
    "rate,channel=frame_rate_channel(Audio_Input2)\n",
    "result = transcribe_file_with_word_time_offsets(Audio_Input2,rate,channel)"
   ]
  },
  {
   "cell_type": "code",
   "execution_count": 19,
   "metadata": {},
   "outputs": [
    {
     "name": "stdout",
     "output_type": "stream",
     "text": [
      "Input/29071206_for_timeline.wav\n"
     ]
    },
    {
     "data": {
      "text/plain": [
       "2"
      ]
     },
     "execution_count": 19,
     "metadata": {},
     "output_type": "execute_result"
    }
   ],
   "source": [
    "rate,channel=frame_rate_channel(Audio_Input2)\n",
    "channel"
   ]
  },
  {
   "cell_type": "code",
   "execution_count": 17,
   "metadata": {},
   "outputs": [
    {
     "name": "stdout",
     "output_type": "stream",
     "text": [
      "Input/29071206_for_timeline.wav\n"
     ]
    }
   ],
   "source": [
    "\n",
    "\n",
    "rate,channel=frame_rate_channel(Audio_Input2)\n",
    "config_noPunc = speech.RecognitionConfig(\n",
    "            sample_rate_hertz = rate,\n",
    "            language_code = 'vi-VN',\n",
    "            audio_channel_count=channel,\n",
    "            )\n",
    "text = Transcribe_Short_Audio(Audio_Input2,config_noPunc)"
   ]
  },
  {
   "cell_type": "code",
   "execution_count": 11,
   "metadata": {},
   "outputs": [],
   "source": [
    "Create_Word(Audio_Input,final_text)"
   ]
  },
  {
   "cell_type": "code",
   "execution_count": 66,
   "metadata": {},
   "outputs": [],
   "source": [
    "# re_pos = []\n",
    "# for i in Result['khong dau']:\n",
    "#     ipos = pot(i)\n",
    "#     re_pos.extend(ipos)\n",
    "#     re_pos.append(('...','CH'))\n",
    "# text_process = ' ... '.join(Result['khong dau'])\n",
    "# # print(text_process)\n",
    "# pos = pot(text_process)\n",
    "# limit = 10\n",
    "# not_equal=[]\n",
    "\n",
    "# flag = False    \n",
    "# j = 0\n",
    "# for i in range(len(pos)):\n",
    "#     if i + j > len(re_pos):\n",
    "#         re_pos.append([''] * 5)\n",
    "#     if flag == True:\n",
    "#         break\n",
    "#     try:\n",
    "#         while pos[i] != re_pos[i + j]:\n",
    "#             limit -= 1\n",
    "#             not_equal.append((i,pos[i],re_pos[i + j]))\n",
    "#             if pos[i][0] == re_pos[i+j][0]:\n",
    "#                 limit = 5\n",
    "#                 break\n",
    "            \n",
    "#             j += 1\n",
    "#             if limit == 0:\n",
    "#                 print('Over limit')\n",
    "#                 flag = True\n",
    "#                 break\n",
    "#     except IndexError:\n",
    "#             print('IndexError: ',i,i+j)\n",
    "# print(len(not_equal))\n",
    "# for ele in not_equal:\n",
    "#     print(ele)"
   ]
  },
  {
   "cell_type": "code",
   "execution_count": 4,
   "metadata": {},
   "outputs": [],
   "source": [
    "# re_pos = []\n",
    "\n",
    "# text =  Result['khong dau']\n",
    "# start_para = [ 'xin trân trọng kính','tôi xin kính','xin kính','tôi xin', 'xin', 'kính','tôi','xin mời']\n",
    "# idx = []\n",
    "\n",
    "\n",
    "# for start in start_para:\n",
    "#   for i in range(len(text)):\n",
    "#     find = re.compile(start+' mời')\n",
    "#     for m in find.finditer(text[i].lower()):\n",
    "#         sta_in , end_in = m.start(), m.end()\n",
    "#         text[i] = text[i][0:sta_in] + 'xin mời' + text[i][end_in:]\n",
    "#         idx.append(i)"
   ]
  },
  {
   "cell_type": "code",
   "execution_count": 3,
   "metadata": {},
   "outputs": [],
   "source": [
    "# ptext = [text[i] for i in idx]\n",
    "# pos = []\n",
    "# for i in ptext:\n",
    "#     ipos = pot(i)\n",
    "#     print(ipos,'\\n')\n"
   ]
  },
  {
   "cell_type": "code",
   "execution_count": 6,
   "metadata": {},
   "outputs": [
    {
     "data": {
      "text/plain": [
       "['xin mời đồng chí ta ',\n",
       " 'ngày 13/6 Bộ Chỉ huy Bộ đội biên phòng Bà Rịa Vũng Tàu cho biết qua hai ngày 11 và 12/6 Thực hiện kế hoạch tuần tra bảo vệ chủ quyền vùng biển và phối hợp Bảo an toàn đường ống dẫn khí Nam lực lượng Biên phòng và công ty đường ống khí Nam Côn Sơn 12 bộ việc với 17 Phương tiện đang ',\n",
       " 'khai thác đánh bắt thủy sản chồng và cận kề hành lang an toàn đường ống dẫn khí theo đó tổ tuần tra tàu biên phòng 98012 đội Biên phòng bộ đội biên phòng Bà Rịa Vũng Tàu đã tuần tra dọc hành lang an toàn đường khi Nam Côn Sơn từ cá buồn đến remix 90 kể về 75 và ngược lại',\n",
       " 'xin mời đồng chí loại',\n",
       " 'Đồng chí Loại: ngày 13/6 Bộ Chỉ huy Bộ đội biên phòng Bà Rịa Vũng Tàu cho biết qua hai ngày 11 và 12 tháng 6 Thực hiện kế hoạch tuần tra bảo vệ chủ quyền vùng biển và phối hợp âm lực lượng Biên phòng và công ty đường ống khí Nam Côn Sơn phát hiện 12 Vụ việc với 17 phương tiện nâng Neo Đậu kem thủy hải sản ảnh về hành lang đường ống dẫn khí dưới biển ',\n",
       " ' tình cha ta 1398  hai đội biên phòng 2 pro biên phòng Bà Rịa Vũng Tàu đường chạy dọc theo hành lang an toàn đường ống khí Nam Côn Sơn từ km 22 đến km 90 và ngược lại',\n",
       " '...',\n",
       " 'xin mời đồng chí Vũ',\n",
       " 'Đồng chí Vũ: quá trình thanh tra tổ công tác  ngày 13   Bà Rịa Vũng Tàu cho qua hai ngày 11 và 12 thực hiện kế hoạch tuần tra bảo vệ chủ quyền phối hợp bảo vệ an toàn đường ống dẫn khí Nam lực lượng Biên phòng và công ty đường ống khí nén  phát hiện 12 ',\n",
       " '17 Phương tiện đang cái thật đừng bắt thủy cần kế hành lang an toàn đường ống dẫn khí dưới biển  Tình Cha tàu  tin nóng buộc phải đổi biển Bà Rịa Vũng Tàu đã tuần tra dọc hành lang an toàn đường ống thì Nam từ km 22 đến km cà phê ...',\n",
       " 'xin mời đồng chí Doraemon',\n",
       " 'Đồng chí Doraemon:  ngày 13/6 Bộ Chỉ huy Bộ đội biên phòng Bà Rịa Vũng Tàu cho biết quá hai ngày 11 và 12/6 Thực hiện kế hoạch tuần tra bảo vệ chủ quyền vùng biển và phối hợp bảo vệ an ninh an toàn đường ống dẫn khí Nam Côn Sơn lực lượng Biên phòng và công tác đường ống dẫn khí Nam Côn Sơn đã phát hiện 12 Vụ việc với 17 Phương tiện đang đang Neo Đậu khai thác đánh bắt thủy sản trong và cưỡng chế hành lang an toàn đường ống dẫn nước biển theo đó tổ tuần tra tàu biên phòng 13 9801 thuộc hai đội biên phòng 2 Mỗi tổ bà rịa vũng ',\n",
       " 'Vũng Tàu đã tuần tra dọc hành lang an toàn đường ống dẫn khí Nam Côn Sơn từ km22 tính km90 kb75 và ngược lại',\n",
       " '']"
      ]
     },
     "execution_count": 6,
     "metadata": {},
     "output_type": "execute_result"
    }
   ],
   "source": [
    "# final_text"
   ]
  },
  {
   "cell_type": "code",
   "execution_count": 4,
   "metadata": {},
   "outputs": [
    {
     "data": {
      "text/plain": [
       "['Xin mời đồng chí ta',\n",
       " 'ngày 13/6 Bộ Chỉ huy Bộ đội biên phòng Bà Rịa Vũng Tàu cho biết qua hai ngày 11 và 12/6 Thực hiện kế hoạch tuần tra bảo vệ chủ quyền vùng biển và phối hợp Bảo an toàn đường ống dẫn khí Nam lực lượng Biên phòng và công ty đường ống khí Nam Côn Sơn 12 bộ việc với 17 Phương tiện đang',\n",
       " 'khai thác đánh bắt thủy sản chồng và cận kề hành lang an toàn đường ống dẫn khí theo đó tổ tuần tra tàu biên phòng 98012 đội Biên phòng bộ đội biên phòng Bà Rịa Vũng Tàu đã tuần tra dọc hành lang an toàn đường khi Nam Côn Sơn từ cá buồn đến remix 90 kể về 75 và ngược lại báo cáo hết',\n",
       " 'Xin mời đồng chí loại',\n",
       " 'ngày 13/6 Bộ Chỉ huy Bộ đội biên phòng Bà Rịa Vũng Tàu cho biết qua hai ngày 11 và 12 tháng 6 Thực hiện kế hoạch tuần tra bảo vệ chủ quyền vùng biển và phối hợp âm lực lượng Biên phòng và công ty đường ống khí Nam Côn Sơn phát hiện 12 Vụ việc với 17 phương tiện nâng Neo Đậu kem thủy hải sản ảnh về hành lang đường ống dẫn khí dưới biển',\n",
       " ' tình cha ta 1398  hai đội biên phòng 2 pro biên phòng Bà Rịa Vũng Tàu đường chạy dọc theo hành lang an toàn đường ống khí Nam Côn Sơn từ km 22 đến km 90 và ngược lại báo cáo hết',\n",
       " 'Báo cáo hết Xin mời đồng chí Vũ',\n",
       " 'quá trình thanh tra tổ công tác  ngày 13   Bà Rịa Vũng Tàu cho qua hai ngày 11 và 12 thực hiện kế hoạch tuần tra bảo vệ chủ quyền phối hợp bảo vệ an toàn đường ống dẫn khí Nam lực lượng Biên phòng và công ty đường ống khí nén  phát hiện 12',\n",
       " '17 Phương tiện đang cái thật đừng bắt thủy cần kế hành lang an toàn đường ống dẫn khí dưới biển  Tình Cha tàu  tin nóng buộc phải đổi biển Bà Rịa Vũng Tàu đã tuần tra dọc hành lang an toàn đường ống thì Nam từ km 22 đến km cà phê',\n",
       " ' Báo cáo hết',\n",
       " 'Xin mời đồng chí Doraemon ngày 13/6 Bộ Chỉ huy Bộ đội biên phòng Bà Rịa Vũng Tàu cho biết quá hai ngày 11 và 12/6 Thực hiện kế hoạch tuần tra bảo vệ chủ quyền vùng biển và phối hợp bảo vệ an ninh an toàn đường ống dẫn khí Nam Côn Sơn lực lượng Biên phòng và công tác đường ống dẫn khí Nam Côn Sơn đã phát hiện 12 Vụ việc với 17 Phương tiện đang đang Neo Đậu khai thác đánh bắt thủy sản trong và cưỡng chế hành lang an toàn đường ống dẫn nước biển theo đó tổ tuần tra tàu biên phòng 13 9801 thuộc hai đội biên phòng 2 Mỗi tổ bà rịa vũng',\n",
       " 'Vũng Tàu đã tuần tra dọc hành lang an toàn đường ống dẫn khí Nam Côn Sơn từ km22 tính km90 kb75 và ngược lại báo cáo hết']"
      ]
     },
     "execution_count": 4,
     "metadata": {},
     "output_type": "execute_result"
    }
   ],
   "source": [
    "# text =  Result['khong dau']\n",
    "# text"
   ]
  },
  {
   "cell_type": "code",
   "execution_count": 9,
   "metadata": {},
   "outputs": [],
   "source": [
    "# from threading import current_thread\n",
    "\n",
    "# def GCP_s2t(alist):\n",
    "#     index=list(alist[0])[0]\n",
    "#     sample_file_config=list(alist[0][index])[0]\n",
    "    \n",
    "#     rate,channel=frame_rate_channel(sample_file_config)\n",
    "\n",
    "#     config = speech.RecognitionConfig(\n",
    "#             sample_rate_hertz = rate,\n",
    "#             language_code = 'vi-VN',\n",
    "#             audio_channel_count=channel,\n",
    "#             enable_automatic_punctuation=True,\n",
    "#             )\n",
    "\n",
    "#     config_noPunc = speech.RecognitionConfig(\n",
    "#             sample_rate_hertz = rate,\n",
    "#             language_code = 'vi-VN',\n",
    "#             audio_channel_count=channel,\n",
    "#             )\n",
    "\n",
    "#     def thread_function(index,file_addr):\n",
    "#         # global thTranscribeConfig\n",
    "#         thread = current_thread()\n",
    "#         try:\n",
    "#             text=Transcribe_Short_Audio(file_addr,thTranscribeConfig)\n",
    "#         except:\n",
    "#             text = Transcribe_Long_Audio(file_addr,thTranscribeConfig, name=str(thread.name))\n",
    "#         x = index,text\n",
    "#         return x\n",
    "\n",
    "#     result_dict = {'Speaker':[], 'co dau':[],'khong dau':[],'silence':[]}\n",
    "#     for adict in alist:\n",
    "#         for speaker,value in adict.items():\n",
    "#                 file_addr = list(adict[speaker].keys())\n",
    "#                 silent_time = list(adict[speaker].values())\n",
    "#                 index = list(range(len(file_addr)))\n",
    "#                 thTranscribeConfig = config\n",
    "#                 with ThreadPoolExecutor(8) as executor:\n",
    "#                     futures = executor.map(thread_function,index,file_addr)\n",
    "#                     index_text = [x for x in futures]\n",
    "#                 index_text.sort(key=func_sort)\n",
    "#                 text = [text for _,text in index_text]\n",
    "\n",
    "#                 thTranscribeConfig = config_noPunc\n",
    "#                 with ThreadPoolExecutor(8) as executor:\n",
    "#                     futures2 = executor.map(thread_function,index,file_addr)\n",
    "#                     index_text2 = [y for y in futures2]\n",
    "#                 index_text2.sort(key=func_sort)\n",
    "#                 text2 = [text2 for _,text2 in index_text2]\n",
    "\n",
    "#                 result_dict['Speaker'].extend([speaker] * len(silent_time))\n",
    "#                 result_dict['co dau'].extend(text)\n",
    "#                 result_dict['khong dau'].extend(text2)\n",
    "#                 result_dict['silence'].extend(silent_time)\n",
    "#     return result_dict"
   ]
  },
  {
   "cell_type": "code",
   "execution_count": 10,
   "metadata": {},
   "outputs": [],
   "source": [
    "# import wave\n",
    "# import numpy as np\n",
    "# import matplotlib.pyplot as plt\n",
    "# def function(audio):\n",
    "#     wav_obj = wave.open(audio, 'rb')\n",
    "#     sample_freq = wav_obj.getframerate()\n",
    "#     n_samples = wav_obj.getnframes()\n",
    "#     print('Channels : ',wav_obj.getnchannels())\n",
    "#     t_audio = n_samples/sample_freq\n",
    "#     signal_wave = wav_obj.readframes(n_samples)\n",
    "    \n",
    "#     signal_array = np.frombuffer(signal_wave, dtype=np.int16)\n",
    "#     l_channel = signal_array[0::2]\n",
    "#     r_channel = signal_array[1::2]\n",
    "    \n",
    "#     times = np.linspace(0, n_samples/sample_freq, num=n_samples)\n",
    "    \n",
    "\n",
    "#     plt.subplots(figsize=(20, 20))\n",
    "#     plt.subplot(4,1,1)\n",
    "#     plt.plot(times, l_channel)\n",
    "#     # plt.title('Left Channel')\n",
    "#     # plt.ylabel('Signal Value')\n",
    "#     # plt.xlabel('Time (s)')\n",
    "#     plt.xlim(0, t_audio)\n",
    "\n",
    "#     plt.subplot(4,1,2)\n",
    "#     plt.plot(times, r_channel)\n",
    "#     # plt.title('Right Channel')\n",
    "#     # plt.ylabel('Signal Value')\n",
    "#     # plt.xlabel('Time (s)')\n",
    "#     plt.xlim(0, t_audio)\n",
    "\n",
    "    \n",
    "#     plt.subplot(4,1,3)\n",
    "#     plt.specgram(l_channel, Fs=sample_freq, vmin=-20, vmax=50)\n",
    "#     # plt.title('Left Channel')\n",
    "#     # plt.ylabel('Frequency (Hz)')\n",
    "#     # plt.xlabel('Time (s)')\n",
    "#     plt.xlim(0, t_audio)\n",
    "#     plt.colorbar()\n",
    "\n",
    "    # plt.subplot(4,1,4)\n",
    "    # plt.specgram(r_channel, Fs=sample_freq, vmin=-20, vmax=50)\n",
    "    # # plt.title('right Channel')\n",
    "    # # plt.ylabel('Frequency (Hz)')\n",
    "    # # plt.xlabel('Time (s)')\n",
    "    # plt.xlim(0, t_audio)\n",
    "    # plt.colorbar()\n"
   ]
  },
  {
   "cell_type": "code",
   "execution_count": 11,
   "metadata": {},
   "outputs": [],
   "source": [
    "# function(r'Input\\Sound Recordings\\Recording (2).wav')"
   ]
  },
  {
   "cell_type": "code",
   "execution_count": 12,
   "metadata": {},
   "outputs": [],
   "source": [
    "# Xem Thời gian cắt khoảng im lặng\n",
    "# for i in My_info_list:\n",
    "#     time = 0\n",
    "#     for j in i:\n",
    "#         # time += j[2]-j[1]\n",
    "#         # print(\"{:7.3f} || {:^42}||{:^7.4f}||{:7.4f}||{}\".format(time,j[0],j[2]-j[1],j[3]-j[4],j[5]))\n",
    "#         print(j)\n",
    "#     # print(i)"
   ]
  },
  {
   "cell_type": "code",
   "execution_count": 13,
   "metadata": {},
   "outputs": [],
   "source": [
    "# print(My_info)"
   ]
  },
  {
   "cell_type": "code",
   "execution_count": 10,
   "metadata": {},
   "outputs": [
    {
     "name": "stdout",
     "output_type": "stream",
     "text": [
      "dict_keys(['Speaker', 'co dau', 'khong dau', 'silence'])\n",
      "\n",
      "Text_Dict['Speaker']  : ['SPEAKER_04', 'SPEAKER_00', 'SPEAKER_00', 'SPEAKER_00', 'SPEAKER_00', 'SPEAKER_00', 'SPEAKER_00', 'SPEAKER_00', 'SPEAKER_00', 'SPEAKER_00', 'SPEAKER_00', 'SPEAKER_00', 'SPEAKER_00', 'SPEAKER_03', 'SPEAKER_02', 'SPEAKER_02', 'SPEAKER_02', 'SPEAKER_02', 'SPEAKER_02', 'SPEAKER_02', 'SPEAKER_02', 'SPEAKER_02', 'SPEAKER_02', 'SPEAKER_02', 'SPEAKER_02', 'SPEAKER_03', 'SPEAKER_01', 'SPEAKER_01', 'SPEAKER_01', 'SPEAKER_01', 'SPEAKER_01', 'SPEAKER_01', 'SPEAKER_01', 'SPEAKER_01', 'SPEAKER_01', 'SPEAKER_01', 'SPEAKER_01', 'SPEAKER_01', 'SPEAKER_01', 'SPEAKER_01', 'SPEAKER_01', 'SPEAKER_01', 'SPEAKER_01', 'SPEAKER_01', 'SPEAKER_01', 'SPEAKER_01', 'SPEAKER_01', 'SPEAKER_01', 'SPEAKER_01', 'SPEAKER_01', 'SPEAKER_01', 'SPEAKER_01', 'SPEAKER_04', 'SPEAKER_04']\n",
      "\n",
      "Text_Dict['co dau']   : [['Xin mời đồng chí ta'], ['ngày 13/6 Bộ Chỉ huy Bộ đội biên phòng Bà Rịa Vũng Tàu cho biết qua hai ngày 11 và 12/6 Thực hiện kế hoạch tuần tra bảo vệ chủ quyền vùng biển và phối hợp Bảo'], ['an toàn đường ống dẫn khí Nam'], ['lực lượng Biên phòng và công ty đường ống khí Nam Côn Sơn'], ['12 bộ việc với 17 Phương tiện đang'], ['khai thác đánh bắt thủy sản'], ['chồng và cận kề hành lang an toàn đường ống dẫn khí'], ['theo đó tổ tuần tra tàu biên phòng'], ['98012 đội Biên phòng'], ['bộ đội biên phòng Bà Rịa Vũng Tàu đã tuần tra dọc hành lang an toàn đường'], ['khi Nam Côn Sơn từ cá'], ['buồn đến'], ['remix 90 kể về 75 và ngược lại báo cáo hết'], ['Xin mời đồng chí loại'], ['ngày 13/6 Bộ Chỉ huy Bộ đội biên phòng Bà Rịa Vũng Tàu cho biết qua hai ngày 11 và 12'], ['tháng 6 Thực hiện kế hoạch tuần tra bảo vệ chủ quyền vùng biển và phối hợp âm'], ['lực lượng Biên phòng và công ty đường ống khí Nam Côn Sơn phát hiện 12 Vụ việc với 17 phương tiện nâng Neo Đậu kem'], ['thủy hải sản'], ['ảnh về hành lang đường ống dẫn khí dưới biển'], [], ['tình cha ta'], ['1398'], [], ['hai đội biên phòng 2 pro biên phòng Bà Rịa Vũng Tàu'], ['đường chạy dọc theo hành lang an toàn đường ống khí Nam Côn Sơn từ km 22 đến km 90 và ngược lại báo cáo hết'], ['Báo cáo hết Xin mời đồng chí Vũ'], ['quá trình thanh tra tổ công tác'], [], ['ngày 13'], [], [], ['Bà Rịa Vũng Tàu cho'], ['qua hai ngày 11 và 12'], ['thực hiện kế hoạch tuần tra bảo vệ chủ quyền'], ['phối hợp bảo vệ'], ['an toàn đường ống dẫn khí Nam'], ['lực lượng Biên phòng và công ty đường ống khí nén'], [], ['phát hiện 12'], ['17 Phương tiện đang'], ['cái thật đừng bắt thủy'], ['cần kế hành lang an toàn đường ống dẫn khí dưới biển'], [], ['Tình Cha tàu'], [], ['tin nóng'], ['buộc phải đổi biển'], ['Bà Rịa Vũng Tàu đã tuần tra dọc hành lang an toàn đường ống thì Nam'], ['từ km 22 đến km'], ['cà phê'], [], ['Báo cáo hết'], ['Xin mời đồng chí Doraemon ngày 13/6 Bộ Chỉ huy Bộ đội biên phòng Bà Rịa Vũng Tàu cho biết quá hai ngày 11 và 12/6 Thực hiện kế hoạch tuần tra bảo vệ chủ quyền vùng biển và phối hợp bảo vệ an ninh an toàn đường ống dẫn khí Nam Côn Sơn lực lượng Biên phòng và công tác đường ống dẫn khí Nam Côn Sơn đã phát hiện 12 Vụ việc với 17 Phương tiện đang đang Neo Đậu khai thác đánh bắt thủy sản trong và cưỡng chế hành lang an toàn đường ống dẫn nước biển theo đó tổ tuần tra tàu biên phòng 13 9801 thuộc hai đội biên phòng 2 Mỗi tổ bà rịa vũng'], ['Vũng Tàu đã tuần tra dọc hành lang an toàn đường ống dẫn khí Nam Côn Sơn từ km22 tính km90 kb75 và ngược lại báo cáo hết']]\n",
      "\n",
      "Text_Dict['khong dau']: [['Xin mời đồng chí ta'], ['ngày 13/6 Bộ Chỉ huy Bộ đội biên phòng Bà Rịa Vũng Tàu cho biết qua hai ngày 11 và 12/6 Thực hiện kế hoạch tuần tra bảo vệ chủ quyền vùng biển và phối hợp Bảo'], ['an toàn đường ống dẫn khí Nam'], ['lực lượng Biên phòng và công ty đường ống khí Nam Côn Sơn'], ['12 bộ việc với 17 Phương tiện đang'], ['khai thác đánh bắt thủy sản'], ['chồng và cận kề hành lang an toàn đường ống dẫn khí'], ['theo đó tổ tuần tra tàu biên phòng'], ['98012 đội Biên phòng'], ['bộ đội biên phòng Bà Rịa Vũng Tàu đã tuần tra dọc hành lang an toàn đường'], ['khi Nam Côn Sơn từ cá'], ['buồn đến'], ['remix 90 kể về 75 và ngược lại báo cáo hết'], ['Xin mời đồng chí loại'], ['ngày 13/6 Bộ Chỉ huy Bộ đội biên phòng Bà Rịa Vũng Tàu cho biết qua hai ngày 11 và 12'], ['tháng 6 Thực hiện kế hoạch tuần tra bảo vệ chủ quyền vùng biển và phối hợp âm'], ['lực lượng Biên phòng và công ty đường ống khí Nam Côn Sơn phát hiện 12 Vụ việc với 17 phương tiện nâng Neo Đậu kem'], ['thủy hải sản'], ['ảnh về hành lang đường ống dẫn khí dưới biển'], [], ['tình cha ta'], ['1398'], [], ['hai đội biên phòng 2 pro biên phòng Bà Rịa Vũng Tàu'], ['đường chạy dọc theo hành lang an toàn đường ống khí Nam Côn Sơn từ km 22 đến km 90 và ngược lại báo cáo hết'], ['Báo cáo hết Xin mời đồng chí Vũ'], ['quá trình thanh tra tổ công tác'], [], ['ngày 13'], [], [], ['Bà Rịa Vũng Tàu cho'], ['qua hai ngày 11 và 12'], ['thực hiện kế hoạch tuần tra bảo vệ chủ quyền'], ['phối hợp bảo vệ'], ['an toàn đường ống dẫn khí Nam'], ['lực lượng Biên phòng và công ty đường ống khí nén'], [], ['phát hiện 12'], ['17 Phương tiện đang'], ['cái thật đừng bắt thủy'], ['cần kế hành lang an toàn đường ống dẫn khí dưới biển'], [], ['Tình Cha tàu'], [], ['tin nóng'], ['buộc phải đổi biển'], ['Bà Rịa Vũng Tàu đã tuần tra dọc hành lang an toàn đường ống thì Nam'], ['từ km 22 đến km'], ['cà phê'], [], ['Báo cáo hết'], ['Xin mời đồng chí Doraemon ngày 13/6 Bộ Chỉ huy Bộ đội biên phòng Bà Rịa Vũng Tàu cho biết quá hai ngày 11 và 12/6 Thực hiện kế hoạch tuần tra bảo vệ chủ quyền vùng biển và phối hợp bảo vệ an ninh an toàn đường ống dẫn khí Nam Côn Sơn lực lượng Biên phòng và công tác đường ống dẫn khí Nam Côn Sơn đã phát hiện 12 Vụ việc với 17 Phương tiện đang đang Neo Đậu khai thác đánh bắt thủy sản trong và cưỡng chế hành lang an toàn đường ống dẫn nước biển theo đó tổ tuần tra tàu biên phòng 13 9801 thuộc hai đội biên phòng 2 Mỗi tổ bà rịa vũng'], ['Vũng Tàu đã tuần tra dọc hành lang an toàn đường ống dẫn khí Nam Côn Sơn từ km22 tính km90 kb75 và ngược lại báo cáo hết']]\n",
      "\n",
      "Text_Dict['silence']  : [(0, 0, False), (12.635, 12.23, False), (15.685, 15.154, False), (20.008, 19.419, False), (23.466, 23.011, True)]\n"
     ]
    }
   ],
   "source": [
    "# print(Text_Dict.keys())\n",
    "# print('\\nText_Dict[\\'Speaker\\']  :',Text_Dict['Speaker'])\n",
    "# print('\\nText_Dict[\\'co dau\\']   :',Text_Dict['co dau'])\n",
    "# print('\\nText_Dict[\\'khong dau\\']:',Text_Dict['khong dau'])\n",
    "# print('\\nText_Dict[\\'silence\\']  :',Text_Dict['silence'][0:5])"
   ]
  },
  {
   "cell_type": "code",
   "execution_count": null,
   "metadata": {},
   "outputs": [],
   "source": []
  },
  {
   "cell_type": "code",
   "execution_count": 15,
   "metadata": {},
   "outputs": [],
   "source": [
    "## Kiểm tra Xuong dong\n",
    "# for Speaker,codau,kdau,sil in zip(Text_Dict['Speaker'],Text_Dict['co dau'],Text_Dict['khong dau'],Text_Dict['silence']):\n",
    "#     print(\"{:^10}||{}||{}\".format(Speaker,sil,kdau))"
   ]
  },
  {
   "cell_type": "code",
   "execution_count": 16,
   "metadata": {},
   "outputs": [
    {
     "name": "stdout",
     "output_type": "stream",
     "text": [
      "dict_keys(['Speaker', 'co dau', 'khong dau'])\n",
      "\n",
      "Result['Speaker']  : ['SPEAKER_04', 'SPEAKER_00', 'SPEAKER_03', 'SPEAKER_02', 'SPEAKER_03', 'SPEAKER_01', 'SPEAKER_04']\n",
      "\n",
      "Result['co dau']   : ['Xin mời đồng chí ta.', 'ngày 13/6, Bộ Chỉ huy Bộ đội biên phòng Bà Rịa Vũng Tàu cho biết qua hai ngày 11 và 12/6 Thực hiện kế hoạch tuần tra bảo vệ chủ quyền vùng biển và phối hợp Bảo An ninh, an toàn đường ống dẫn khí Nam Côn Sơn lực lượng Biên phòng và công ty đường ống khí Nam Côn Sơn đã phát hiện 12 Vụ việc với 17 Phương tiện đang Neo Đậu đánh bắt thủy sản trong và cận kề hành lang an toàn đường ống dẫn khí dưới biển theo đó tổ tuần tra tàu biên phòng 13 98012 đội Biên Bộ đội biên phòng Bà Rịa Vũng Tàu đã tuần tra dọc hành lang an toàn đường ống khí Nam Côn Sơn từ. Buồn đến. Remix 9775 và ngược lại báo cáo hết.', 'Xin mời đồng chí loại.', 'Ngày 13/6, Bộ Chỉ huy Bộ đội biên phòng Bà Rịa Vũng Tàu cho biết qua hai ngày 11 và 12. Tháng 6, Thực hiện kế hoạch tuần tra bảo vệ chủ quyền vùng biển và phối hợp an ninh an toàn đường ống dẫn khí Nam Côn Sơn lực lượng Biên phòng và công ty đường ống khí Nam Côn Sơn phát hiện 12 Vụ việc với 17 phương tiện năng khai thác đánh bắt thủy hải sản hơn và cận kề Thành Long đường ống dẫn khí dưới biển.  tình cha tạo biên phòng 113 9801 thuộc hai đội biên phòng 2 pro, biên phòng Bà Rịa Vũng Tàu Đường chạy dọc theo hành lang an toàn đường ống khí Nam Côn Sơn từ km 22 đến km 90 và ngược lại báo cáo hết.', 'Báo cáo hết Xin mời đồng chí Vũ', 'Quá trình thanh tra tổ công tác. Ngày 10. Chỉ huy Bộ đội biên phòng Bà Rịa Vũng Tàu cho biết. Có hai ngày 11 và 12. Thực hiện kế hoạch tuần tra, bảo vệ chủ quyền. Phối hợp bảo vệ. toàn đường ống dẫn khí Nam Côn Sơn lực lượng Biên phòng và công ty đường ống khí Nam Đã phát hiện 12 Vụ việc với 17 phương tiện đo. Cái thật đừng bắt thủy. Cần kế hành lang an toàn đường ống dẫn khí dưới biển theo đỏ Tội phần cha ta. IPad 95. cuộc Hải đổi, B Bà Rịa Vũng Tàu đã tuần cá rộng hành lang an toàn đường ống khí Nam Từ km 22 đến km 90.  Báo cáo hết.', 'Xin mời đồng chí Doraemon ngày 13/6, Bộ Chỉ huy Bộ đội biên phòng Bà Rịa Vũng Tàu cho biết quá hai ngày 11 và 12/6 Thực hiện kế hoạch tuần tra bảo vệ chủ quyền vùng biển và phối hợp bảo vệ an ninh an toàn đường ống dẫn khí Nam Côn Sơn lực lượng Biên phòng và công tác đường ống dẫn khí Nam Côn Sơn đã phát hiện 12 Vụ việc với 17 Phương tiện đang đang Neo Đậu khai thác đánh bắt thủy sản trong và cưỡng chế hành lang an toàn đường ống dẫn nước biển theo đó tổ tuần tra tàu biên phòng 13 9801 thuộc hai đội biên phòng 2 bộ đồ Bà Rịa vũng. Vũng Tàu đã tuần tra dọc hành lang an toàn đường ống dẫn khí Nam Côn Sơn từ km 22 đến km90, kb75 và ngược lại báo cáo hết.']\n",
      "\n",
      "Result['khong dau']: ['Xin mời đồng chí ta', 'ngày 13/6 Bộ Chỉ huy Bộ đội biên phòng Bà Rịa Vũng Tàu cho biết qua hai ngày 11 và 12/6 Thực hiện kế hoạch tuần tra bảo vệ chủ quyền vùng biển và phối hợp Bảo An ninh an toàn đường ống dẫn khí Nam Côn Sơn lực lượng Biên phòng và công ty đường ống khí Nam Côn Sơn đã phát hiện 12 Vụ việc với 17 Phương tiện đang Neo Đậu đánh bắt thủy sản trong và cận kề hành lang an toàn đường ống dẫn khí dưới biển theo đó tổ tuần tra tàu biên phòng 13 98012 đội Biên bộ đội biên phòng Bà Rịa Vũng Tàu đã tuần tra dọc hành lang an toàn đường ống khí Nam Côn Sơn từ buồn đến remix 9775 và ngược lại báo cáo hết', 'Xin mời đồng chí loại', 'ngày 13/6 Bộ Chỉ huy Bộ đội biên phòng Bà Rịa Vũng Tàu cho biết qua hai ngày 11 và 12 tháng 6 Thực hiện kế hoạch tuần tra bảo vệ chủ quyền vùng biển và phối hợp an ninh an toàn đường ống dẫn khí Nam Côn Sơn lực lượng Biên phòng và công ty đường ống khí Nam Côn Sơn phát hiện 12 Vụ việc với 17 phương tiện năng khai thác đánh bắt thủy hải sản hơn và cận kề Thành Long đường ống dẫn khí dưới biển  tình cha tạo biên phòng 113 9801 thuộc hai đội biên phòng 2 pro biên phòng Bà Rịa Vũng Tàu đường chạy dọc theo hành lang an toàn đường ống khí Nam Côn Sơn từ km 22 đến km 90 và ngược lại báo cáo hết', 'Báo cáo hết Xin mời đồng chí Vũ', 'quá trình thanh tra tổ công tác ngày 10 Chỉ huy Bộ đội biên phòng Bà Rịa Vũng Tàu cho biết có hai ngày 11 và 12 thực hiện kế hoạch tuần tra bảo vệ chủ quyền phối hợp bảo vệ toàn đường ống dẫn khí Nam Côn Sơn lực lượng Biên phòng và công ty đường ống khí Nam đã phát hiện 12 Vụ việc với 17 phương tiện đo cái thật đừng bắt thủy cần kế hành lang an toàn đường ống dẫn khí dưới biển theo đỏ Tội phần cha ta iPad 95 cuộc Hải đổi B Bà Rịa Vũng Tàu đã tuần cá rộng hành lang an toàn đường ống khí Nam từ km 22 đến km 90  Báo cáo hết', 'Xin mời đồng chí Doraemon ngày 13/6 Bộ Chỉ huy Bộ đội biên phòng Bà Rịa Vũng Tàu cho biết quá hai ngày 11 và 12/6 Thực hiện kế hoạch tuần tra bảo vệ chủ quyền vùng biển và phối hợp bảo vệ an ninh an toàn đường ống dẫn khí Nam Côn Sơn lực lượng Biên phòng và công tác đường ống dẫn khí Nam Côn Sơn đã phát hiện 12 Vụ việc với 17 Phương tiện đang đang Neo Đậu khai thác đánh bắt thủy sản trong và cưỡng chế hành lang an toàn đường ống dẫn nước biển theo đó tổ tuần tra tàu biên phòng 13 9801 thuộc hai đội biên phòng 2 bộ đồ Bà Rịa vũng Vũng Tàu đã tuần tra dọc hành lang an toàn đường ống dẫn khí Nam Côn Sơn từ km 22 đến km90 kb75 và ngược lại báo cáo hết']\n"
     ]
    }
   ],
   "source": [
    "Result = Handle_Text_Dict(Text_Dict)\n",
    "print(Result.keys())\n",
    "print('\\nResult[\\'Speaker\\']  :',Result['Speaker'][:])\n",
    "print('\\nResult[\\'co dau\\']   :',Result['co dau'][:])\n",
    "print('\\nResult[\\'khong dau\\']:',Result['khong dau'][:])\n",
    "# with open('Result.txt','w+',encoding='utf-8') as f:\n",
    "#     f.write(str(Result))"
   ]
  },
  {
   "cell_type": "code",
   "execution_count": 17,
   "metadata": {},
   "outputs": [],
   "source": [
    "# with open(r'D:\\Work_Space\\s2t_GCP_Pycharm\\Result.txt','w+',encoding='utf-8') as f:\n",
    "#     f.write(str(Result))"
   ]
  }
 ],
 "metadata": {
  "kernelspec": {
   "display_name": "Python 3.9.0 ('pytorch')",
   "language": "python",
   "name": "python3"
  },
  "language_info": {
   "codemirror_mode": {
    "name": "ipython",
    "version": 3
   },
   "file_extension": ".py",
   "mimetype": "text/x-python",
   "name": "python",
   "nbconvert_exporter": "python",
   "pygments_lexer": "ipython3",
   "version": "3.9.0"
  },
  "orig_nbformat": 4,
  "vscode": {
   "interpreter": {
    "hash": "327d752cf3c9d086d70756120b045000a75648125e3b93b5c567a6c0d7bbc3f0"
   }
  }
 },
 "nbformat": 4,
 "nbformat_minor": 2
}
