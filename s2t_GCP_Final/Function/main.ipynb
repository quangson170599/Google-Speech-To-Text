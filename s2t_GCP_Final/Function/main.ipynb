{
 "cells": [
  {
   "cell_type": "code",
   "execution_count": 1,
   "metadata": {},
   "outputs": [
    {
     "name": "stderr",
     "output_type": "stream",
     "text": [
      "c:\\Users\\minhl\\anaconda3\\envs\\s2t_GCP_GPU\\lib\\site-packages\\tqdm\\auto.py:22: TqdmWarning: IProgress not found. Please update jupyter and ipywidgets. See https://ipywidgets.readthedocs.io/en/stable/user_install.html\n",
      "  from .autonotebook import tqdm as notebook_tqdm\n",
      "The torchaudio backend is switched to 'soundfile'. Note that 'sox_io' is not supported on Windows.\n",
      "The torchaudio backend is switched to 'soundfile'. Note that 'sox_io' is not supported on Windows.\n"
     ]
    }
   ],
   "source": [
    "from Process_Function import *\n",
    "from Function.write_txt import *\n",
    "from time import time\n",
    "import shutil\n",
    "\n",
    "# Phần ghép các Function\n",
    "Audio_Input = 'Input/0108_0447.wav'\n",
    "# Audio_wav = Audio_Input.replace('.m4a','.wav')\n",
    "# if os.path.exists(Audio_wav):\n",
    "#     os.remove(Audio_wav)\n",
    "# Audio = AudioSegment.from_file(Audio_Input,'m4a')\n",
    "# Audio.export(Audio_wav,'wav')\n",
    "# Audio_Input = Audio_wav\n",
    "\n",
    "Thu_muc_cho_audio_cat_theo_giong_noi = 'Splited_speaker'\n",
    "Thu_muc_cho_audio_cat_theo_silence   = 'Splited_Silence'\n",
    "Name = Audio_Input.split('/')[-1]\n",
    "if os.path.exists(Thu_muc_cho_audio_cat_theo_giong_noi + '/' +Name.replace('.wav','')):\n",
    "    shutil.rmtree(Thu_muc_cho_audio_cat_theo_giong_noi + '/' +Name.replace('.wav',''), ignore_errors=True)\n",
    "if os.path.exists(Thu_muc_cho_audio_cat_theo_silence   + '/' +Name.replace('.wav','')):\n",
    "    shutil.rmtree(Thu_muc_cho_audio_cat_theo_silence + '/' +Name.replace('.wav',''), ignore_errors=True)"
   ]
  },
  {
   "cell_type": "code",
   "execution_count": 2,
   "metadata": {},
   "outputs": [],
   "source": [
    "Speaker,hashDict = Split_speaker(Audio_Input, time_ok=True)\n",
    "# # write_Speaker_txt(Speaker,Audio_Input)\n",
    "# write_Speaker_txt(hashDict,Audio_Input)"
   ]
  },
  {
   "cell_type": "code",
   "execution_count": 3,
   "metadata": {},
   "outputs": [],
   "source": [
    "My_info = []\n",
    "My_info_list = []\n",
    "for audio,speaker in hashDict.items():\n",
    "    my_dict,alist = split_silence(audio,speaker,silence_time=300)\n",
    "    My_info.append(my_dict)\n",
    "    My_info_list.append(alist)"
   ]
  },
  {
   "cell_type": "code",
   "execution_count": 4,
   "metadata": {},
   "outputs": [],
   "source": [
    "#My_info = Process(My_info,My_info_list,time=20)\n",
    "Text_Dict=GCP_s2t(My_info)\n",
    "Result = Handle_Text_Dict(Text_Dict,XD=False,newLine=2)\n",
    "Result2 = Handle_Text_Dict(Text_Dict,S_Punc_ok=True,newLine=2)"
   ]
  },
  {
   "cell_type": "code",
   "execution_count": 6,
   "metadata": {},
   "outputs": [
    {
     "name": "stdout",
     "output_type": "stream",
     "text": [
      "2 3\n",
      "                                                                                 \n",
      "\n",
      "\n",
      "\n",
      "     \n",
      "                                                                                 \n",
      "\n",
      "\n",
      "\n",
      "                              /n\n",
      "2 5\n"
     ]
    }
   ],
   "source": [
    "output,final_text=process_input(Result)"
   ]
  },
  {
   "cell_type": "code",
   "execution_count": 7,
   "metadata": {},
   "outputs": [],
   "source": [
    "Name = Audio_Input.split('/')[-1]\n",
    "Name.replace('.wav','Xuong_dong')\n",
    "Create_Word(Name,final_text)"
   ]
  },
  {
   "cell_type": "code",
   "execution_count": 1,
   "metadata": {},
   "outputs": [],
   "source": [
    "## Xem Thời gian cắt khoảng im lặng\n",
    "# for i in My_info_list:\n",
    "#     for j in i:\n",
    "#         print(\"{:^42}||{:^7.4f}||{:7.4f}||{}\".format(j[0],j[2]-j[1],j[3]-j[4],j[5]))"
   ]
  },
  {
   "cell_type": "code",
   "execution_count": 14,
   "metadata": {},
   "outputs": [],
   "source": [
    "# print(Text_Dict.keys())\n",
    "# print('\\nText_Dict[\\'Speaker\\']  :',Text_Dict['Speaker'][0:5])\n",
    "# print('\\nText_Dict[\\'co dau\\']   :',Text_Dict['co dau'][0:5])\n",
    "# print('\\nText_Dict[\\'khong dau\\']:',Text_Dict['khong dau'][0:5])\n",
    "# print('\\nText_Dict[\\'silence\\']  :',Text_Dict['silence'][0:5])"
   ]
  },
  {
   "cell_type": "code",
   "execution_count": 9,
   "metadata": {},
   "outputs": [],
   "source": [
    "## Kiểm tra Xuong dong\n",
    "# for Speaker,codau,kdau,sil in zip(Text_Dict['Speaker'],Text_Dict['co dau'],Text_Dict['khong dau'],Text_Dict['silence']):\n",
    "#     print(\"{:^10}||{}||{}\".format(Speaker,sil,kdau))"
   ]
  },
  {
   "cell_type": "code",
   "execution_count": 11,
   "metadata": {},
   "outputs": [],
   "source": [
    "# print(Result.keys())\n",
    "# print('\\nResult[\\'Speaker\\']  :',Result['Speaker'][:])\n",
    "# print('\\nResult[\\'co dau\\']   :',Result['co dau'][:])\n",
    "# print('\\nResult[\\'khong dau\\']:',Result['khong dau'][:])\n",
    "# with open('Result.txt','w+',encoding='utf-8') as f:\n",
    "#     f.write(str(Result))"
   ]
  },
  {
   "cell_type": "code",
   "execution_count": null,
   "metadata": {},
   "outputs": [],
   "source": [
    "# with open(r'D:\\Work_Space\\s2t_GCP_Pycharm\\Result.txt','w+',encoding='utf-8') as f:\n",
    "#     f.write(str(Result))"
   ]
  },
  {
   "cell_type": "code",
   "execution_count": 13,
   "metadata": {},
   "outputs": [
    {
     "data": {
      "text/plain": [
       "['    ', '                             /n']"
      ]
     },
     "execution_count": 13,
     "metadata": {},
     "output_type": "execute_result"
    }
   ],
   "source": [
    "# final_text"
   ]
  }
 ],
 "metadata": {
  "kernelspec": {
   "display_name": "Python 3.7.8 64-bit",
   "language": "python",
   "name": "python3"
  },
  "language_info": {
   "codemirror_mode": {
    "name": "ipython",
    "version": 3
   },
   "file_extension": ".py",
   "mimetype": "text/x-python",
   "name": "python",
   "nbconvert_exporter": "python",
   "pygments_lexer": "ipython3",
   "version": "3.7.8"
  },
  "orig_nbformat": 4,
  "vscode": {
   "interpreter": {
    "hash": "2469a70536e4d2335a2ea8907942d0699c37342a371ac185bdb5b0aa6f073890"
   }
  }
 },
 "nbformat": 4,
 "nbformat_minor": 2
}
