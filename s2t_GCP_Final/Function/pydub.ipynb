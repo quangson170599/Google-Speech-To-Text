{
 "cells": [],
 "metadata": {
  "kernelspec": {
   "display_name": "Python 3.9.12 ('s2t_GCP_Final')",
   "language": "python",
   "name": "python3"
  },
  "language_info": {
   "codemirror_mode": {
    "name": "ipython",
    "version": 3
   },
   "file_extension": ".py",
   "mimetype": "text/x-python",
   "name": "python",
   "nbconvert_exporter": "python",
   "pygments_lexer": "ipython3",
   "version": "3.9.12"
  },
  "orig_nbformat": 4,
  "vscode": {
   "interpreter": {
    "hash": "eba62e2f1a8768f3ac9eee5d5b362a147b9df31afef96b0ac2fe717660655fe5"
   }
  }
 },
 "nbformat": 4,
 "nbformat_minor": 2
}
