{
 "cells": [
  {
   "cell_type": "code",
   "execution_count": null,
   "metadata": {},
   "outputs": [],
   "source": [
    "import os\n",
    "work_dir_expect = 's2t_GCP_Pycharm'\n",
    "work_dir = os.path.abspath('').split('\\\\')\n",
    "work_dir = '\\\\'.join(work_dir[:work_dir.index(work_dir_expect) + 1])\n",
    "os.chdir(work_dir)\n",
    "print('Thư mục làm việc hiện tại : ',os.getcwd())\n",
    "del work_dir_expect"
   ]
  },
  {
   "cell_type": "code",
   "execution_count": 20,
   "metadata": {},
   "outputs": [],
   "source": [
    "import os\n",
    "audio_folder = r'Splited_Silence\\test'\n",
    "wavs = []\n",
    "for root, dirs, files in os.walk(audio_folder):\n",
    "    path = root.split(os.sep)\n",
    "    wavs.extend([root + os.sep + file for file in files])"
   ]
  },
  {
   "cell_type": "code",
   "execution_count": 23,
   "metadata": {},
   "outputs": [],
   "source": [
    "import matplotlib.pyplot as plt\n",
    "\n"
   ]
  }
 ],
 "metadata": {
  "kernelspec": {
   "display_name": "Python 3.9.12 ('s2t_GCP_GPU')",
   "language": "python",
   "name": "python3"
  },
  "language_info": {
   "codemirror_mode": {
    "name": "ipython",
    "version": 3
   },
   "file_extension": ".py",
   "mimetype": "text/x-python",
   "name": "python",
   "nbconvert_exporter": "python",
   "pygments_lexer": "ipython3",
   "version": "3.9.12"
  },
  "orig_nbformat": 4,
  "vscode": {
   "interpreter": {
    "hash": "94c3c3d2c2704898675f7299ccfd62b0d29c6fad15195bc94bab4ea41463e70e"
   }
  }
 },
 "nbformat": 4,
 "nbformat_minor": 2
}
