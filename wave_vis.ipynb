{
 "cells": [
  {
   "cell_type": "code",
   "execution_count": 2,
   "metadata": {},
   "outputs": [
    {
     "name": "stderr",
     "output_type": "stream",
     "text": [
      "The torchaudio backend is switched to 'soundfile'. Note that 'sox_io' is not supported on Windows.\n",
      "The torchaudio backend is switched to 'soundfile'. Note that 'sox_io' is not supported on Windows.\n"
     ]
    }
   ],
   "source": [
    "## Library\n",
    "import os\n",
    "from pydub import AudioSegment, silence\n",
    "import wave\n",
    "from google.cloud import speech\n",
    "from google.cloud import storage\n",
    "from concurrent.futures import ThreadPoolExecutor\n",
    "import io\n",
    "\n",
    "from pyannote.audio import Pipeline\n",
    "\n",
    "pipeline = Pipeline.from_pretrained(\"pyannote/speaker-diarization\")\n",
    "\n",
    "os.environ['GOOGLE_APPLICATION_CREDENTIALS'] = 'Speech2Text.json'\n",
    "\n",
    "## Tạo thư mục cho từng tác vụ\n",
    "Thu_muc_cho_audio_cat_theo_giong_noi = 'Splited_speaker3'\n",
    "Thu_muc_cho_audio_cat_theo_silence   = 'Splited_Silence3'\n",
    "\n",
    "os.makedirs(Thu_muc_cho_audio_cat_theo_giong_noi ,exist_ok= True)\n",
    "os.makedirs(Thu_muc_cho_audio_cat_theo_silence   ,exist_ok= True)"
   ]
  },
  {
   "cell_type": "code",
   "execution_count": 3,
   "metadata": {},
   "outputs": [
    {
     "data": {
      "text/plain": [
       "'c:\\\\Users\\\\quang\\\\Desktop\\\\chominh\\\\s2t_GCP_Final'"
      ]
     },
     "execution_count": 3,
     "metadata": {},
     "output_type": "execute_result"
    }
   ],
   "source": [
    "os.getcwd()"
   ]
  },
  {
   "cell_type": "code",
   "execution_count": 4,
   "metadata": {},
   "outputs": [
    {
     "data": {
      "text/plain": [
       "(32000, 1)"
      ]
     },
     "execution_count": 4,
     "metadata": {},
     "output_type": "execute_result"
    }
   ],
   "source": [
    "def frame_rate_channel(audio_file_name):\n",
    "    with wave.open(audio_file_name, \"rb\") as wave_file:\n",
    "        frame_rate = wave_file.getframerate()\n",
    "        channels = wave_file.getnchannels()\n",
    "        return frame_rate, channels\n",
    "audio_file = './Input/demo_2607.wav'\n",
    "rate, channels = frame_rate_channel(audio_file_name=audio_file)\n",
    "rate, channels"
   ]
  },
  {
   "cell_type": "code",
   "execution_count": null,
   "metadata": {},
   "outputs": [],
   "source": [
    "plt.plot(audio_file, soundwave)"
   ]
  },
  {
   "cell_type": "code",
   "execution_count": 5,
   "metadata": {},
   "outputs": [],
   "source": [
    "import pyaudio\n",
    "import struct\n",
    "import numpy as np\n",
    "import matplotlib.pyplot as plt\n",
    "import time\n",
    "from tkinter import TclError\n",
    "from scipy.fftpack import fft\n",
    "%matplotlib tk\n",
    "CHUNK = 1024 * 2 # samples per frame\n",
    "FORMAT = pyaudio.paInt16\n",
    "CHANNELS = channels\n",
    "RATE = rate"
   ]
  },
  {
   "cell_type": "code",
   "execution_count": 6,
   "metadata": {},
   "outputs": [
    {
     "name": "stdout",
     "output_type": "stream",
     "text": [
      "stream started\n"
     ]
    },
    {
     "ename": "",
     "evalue": "",
     "output_type": "error",
     "traceback": [
      "\u001b[1;31mCanceled future for execute_request message before replies were done"
     ]
    },
    {
     "ename": "",
     "evalue": "",
     "output_type": "error",
     "traceback": [
      "\u001b[1;31mThe Kernel crashed while executing code in the the current cell or a previous cell. Please review the code in the cell(s) to identify a possible cause of the failure. Click <a href='https://aka.ms/vscodeJupyterKernelCrash'>here</a> for more info. View Jupyter <a href='command:jupyter.viewOutput'>log</a> for further details."
     ]
    }
   ],
   "source": [
    "fig, (ax, ax2) = plt.subplots(2,figsize=(15,8))\n",
    "p = pyaudio.PyAudio()\n",
    "stream = p.open(\n",
    "    format=FORMAT,\n",
    "    channels=CHANNELS,\n",
    "    rate = RATE,\n",
    "    input = True,\n",
    "    output = True,\n",
    "    frames_per_buffer=CHUNK\n",
    ")\n",
    "\n",
    "#variable for plotting\n",
    "x = np.arange(0, 2 * CHUNK, 2)\n",
    "x_fft = np.linspace(0, RATE, CHUNK)\n",
    "\n",
    "line, = ax.plot(x, np.random.rand(CHUNK), '-', lw=2)\n",
    "line_fft, = ax2.plot(x_fft, np.random.rand(CHUNK), '-', lw=2)\n",
    "\n",
    "# basic formatting for the axes\n",
    "ax.set_title('AUDIO WAVEFORM')\n",
    "ax.set_xlabel('samples')\n",
    "ax.set_ylabel('volume')\n",
    "ax.set_ylim(0,255)\n",
    "ax.set_xlim(0, 2*CHUNK)\n",
    "plt.setp(ax, xticks=[0,CHUNK, 2*CHUNK], yticks=[0,128,255])\n",
    "\n",
    "# format spectrum axes\n",
    "ax2.set_xlim(20, RATE / 2)\n",
    "\n",
    "print('stream started')\n",
    "\n",
    "# for measuring frame rate\n",
    "frame_count = 0\n",
    "start_time = time.time()\n",
    "\n",
    "while True:\n",
    "    \n",
    "    # binary data\n",
    "    data = stream.read(CHUNK)  \n",
    "    \n",
    "    # convert data to integers, make np array, then offset it by 127\n",
    "    data_int = struct.unpack(str(2 * CHUNK) + 'B', data)\n",
    "    \n",
    "    # create np array and offset by 128\n",
    "    data_np = np.array(data_int, dtype='b')[::2] + 128\n",
    "    \n",
    "    line.set_ydata(data_np)\n",
    "    \n",
    "    # compute FFT and update line\n",
    "    yf = fft(data_int)\n",
    "    line_fft.set_ydata(np.abs(yf[0:CHUNK])  / (128 * CHUNK))\n",
    "    \n",
    "    # update figure canvas\n",
    "    try:\n",
    "        fig.canvas.draw()\n",
    "        fig.canvas.flush_events()\n",
    "        frame_count += 1\n",
    "        \n",
    "    except TclError:\n",
    "        \n",
    "        # calculate average frame rate\n",
    "        frame_rate = frame_count / (time.time() - start_time)\n",
    "        \n",
    "        print('stream stopped')\n",
    "        print('average frame rate = {:.0f} FPS'.format(frame_rate))\n",
    "        break"
   ]
  },
  {
   "cell_type": "code",
   "execution_count": null,
   "metadata": {},
   "outputs": [],
   "source": [
    "data"
   ]
  },
  {
   "cell_type": "code",
   "execution_count": null,
   "metadata": {},
   "outputs": [],
   "source": [
    "fig, (ax,ax2) = plt.subplots(2, figsize=(15,8))"
   ]
  }
 ],
 "metadata": {
  "kernelspec": {
   "display_name": "Python 3.9.12 ('tf')",
   "language": "python",
   "name": "python3"
  },
  "language_info": {
   "codemirror_mode": {
    "name": "ipython",
    "version": 3
   },
   "file_extension": ".py",
   "mimetype": "text/x-python",
   "name": "python",
   "nbconvert_exporter": "python",
   "pygments_lexer": "ipython3",
   "version": "3.9.12"
  },
  "orig_nbformat": 4,
  "vscode": {
   "interpreter": {
    "hash": "7fbd390e9db12f1f88249519e66a2540d8040e508680c02062c369ca99705beb"
   }
  }
 },
 "nbformat": 4,
 "nbformat_minor": 2
}
